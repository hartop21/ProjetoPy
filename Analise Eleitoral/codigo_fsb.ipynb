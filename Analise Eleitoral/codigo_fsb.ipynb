{
 "cells": [
  {
   "cell_type": "code",
   "execution_count": null,
   "id": "926640f7",
   "metadata": {},
   "outputs": [],
   "source": [
    "!pip install python-twitter-vw\n",
    "!pip install snscrape\n",
    "!pip install textblob\n",
    "!pip install unidecode\n",
    "!pip install googletrans==3.1.0a0\n",
    "!pip install xlwt\n",
    "!pip install basedosdados"
   ]
  },
  {
   "cell_type": "code",
   "execution_count": 1,
   "id": "5416e75b",
   "metadata": {},
   "outputs": [],
   "source": [
    "from textblob import TextBlob\n",
    "from unidecode import unidecode\n",
    "from googletrans import Translator, constants\n",
    "from pprint import pprint\n",
    "\n",
    "import snscrape.modules.twitter as dados\n",
    "import pandas as pd\n",
    "import datetime\n",
    "from datetime import timedelta, date\n",
    "import basedosdados as bd\n",
    "\n",
    "translator = Translator()"
   ]
  },
  {
   "cell_type": "code",
   "execution_count": 2,
   "id": "aee247b5",
   "metadata": {},
   "outputs": [],
   "source": [
    "data_inicial = \"2022-1-1\"\n",
    "data_final = \"2022-1-2\"\n",
    "lista_twittes_bolsonaro = []\n",
    "\n",
    "for x in range(360):\n",
    "    for i,tweet in enumerate(dados.TwitterSearchScraper(f'{\"Bolsonaro\"} + since:{data_inicial} until:{data_final}').get_items()):\n",
    "        lista_twittes_bolsonaro.append([tweet.date, tweet.content])\n",
    "        if i>5:\n",
    "            break;\n",
    "    nova_data = pd.to_datetime(data_inicial).date() + pd.DateOffset(days=1)\n",
    "    data_inicial = str(pd.to_datetime(nova_data).date())\n",
    "    nova_data2 = pd.to_datetime(data_final).date() + pd.DateOffset(days=1)\n",
    "    data_final = str(pd.to_datetime(nova_data2).date())\n",
    "        \n",
    "df_bolsonaro = pd.DataFrame(lista_twittes_bolsonaro, columns=['Datetime', 'Text'])\n",
    "textPT = df_bolsonaro['Text'].apply(unidecode)"
   ]
  },
  {
   "cell_type": "code",
   "execution_count": 3,
   "id": "7cfd571a",
   "metadata": {},
   "outputs": [],
   "source": [
    "sentimento_bolsonaro = []\n",
    "for x in textPT:\n",
    "    textEN = translator.translate(x)\n",
    "    sentimento = TextBlob(textEN.text)\n",
    "    sentimento_bolsonaro.append(sentimento.polarity)"
   ]
  },
  {
   "cell_type": "code",
   "execution_count": 4,
   "id": "f9691158",
   "metadata": {},
   "outputs": [],
   "source": [
    "df_bolsonaro['Datetime'] = df_bolsonaro['Datetime'].apply(lambda a: pd.to_datetime(a).date())\n",
    "df_sentimentob = pd.DataFrame.from_dict(data={'Data':df_bolsonaro['Datetime'],'Bolsonaro Sentimento':sentimento_bolsonaro}, orient='columns')\n",
    "BolsoPos = df_sentimentob.loc[df_sentimentob['Bolsonaro Sentimento'] > 0]\n",
    "BolsoNeg = df_sentimentob.loc[df_sentimentob['Bolsonaro Sentimento'] < 0]"
   ]
  },
  {
   "cell_type": "code",
   "execution_count": 5,
   "id": "5d4ed8d1",
   "metadata": {},
   "outputs": [],
   "source": [
    "data_inicial = \"2022-1-1\"\n",
    "data_final = \"2022-1-2\"\n",
    "lista_twittes_lula = []\n",
    "\n",
    "for x in range(360):\n",
    "    for i,tweet in enumerate(dados.TwitterSearchScraper(f'{\"Lula\"} + since:{data_inicial} until:{data_final}').get_items()):\n",
    "        lista_twittes_lula.append([tweet.date, tweet.content])\n",
    "        if i>5:\n",
    "            break;\n",
    "    nova_data = pd.to_datetime(data_inicial).date() + pd.DateOffset(days=1)\n",
    "    data_inicial = str(pd.to_datetime(nova_data).date())\n",
    "    nova_data2 = pd.to_datetime(data_final).date() + pd.DateOffset(days=1)\n",
    "    data_final = str(pd.to_datetime(nova_data2).date())\n",
    "\n",
    "df_lula = pd.DataFrame(lista_twittes_lula, columns=['Datetime', 'Text'])\n",
    "textPT = df_lula['Text'].apply(unidecode)"
   ]
  },
  {
   "cell_type": "code",
   "execution_count": 6,
   "id": "396968dd",
   "metadata": {},
   "outputs": [],
   "source": [
    "sentimento_lula = []\n",
    "for x in textPT:\n",
    "    textEN = translator.translate(x)\n",
    "    sentimento = TextBlob(textEN.text)\n",
    "    sentimento_lula.append(sentimento.polarity)"
   ]
  },
  {
   "cell_type": "code",
   "execution_count": 7,
   "id": "deec7057",
   "metadata": {},
   "outputs": [],
   "source": [
    "df_lula['Datetime'] = df_lula['Datetime'].apply(lambda a: pd.to_datetime(a).date())\n",
    "df_sentimentol = pd.DataFrame.from_dict(data={'Data':df_lula['Datetime'],'Lula Sentimento':sentimento_lula}, orient='columns')\n",
    "LulaPos = df_sentimentol.loc[df_sentimentol['Lula Sentimento'] > 0]\n",
    "LulaNeg = df_sentimentol.loc[df_sentimentol['Lula Sentimento'] < 0]"
   ]
  },
  {
   "cell_type": "code",
   "execution_count": 8,
   "id": "39bc24d9",
   "metadata": {},
   "outputs": [],
   "source": [
    "data_inicial = \"2022-1-1\"\n",
    "data_final = \"2022-1-2\"\n",
    "lista_twittes_ciro = []\n",
    "\n",
    "for x in range(360):\n",
    "    for i,tweet in enumerate(dados.TwitterSearchScraper(f'{\"Ciro\"} + since:{data_inicial} until:{data_final}').get_items()):\n",
    "        lista_twittes_ciro.append([tweet.date, tweet.content])\n",
    "        if i>5:\n",
    "            break;\n",
    "    nova_data = pd.to_datetime(data_inicial).date() + pd.DateOffset(days=1)\n",
    "    data_inicial = str(pd.to_datetime(nova_data).date())\n",
    "    nova_data2 = pd.to_datetime(data_final).date() + pd.DateOffset(days=1)\n",
    "    data_final = str(pd.to_datetime(nova_data2).date())\n",
    "        \n",
    "df_ciro = pd.DataFrame(lista_twittes_ciro, columns=['Datetime', 'Text'])\n",
    "textPT = df_ciro['Text'].apply(unidecode)"
   ]
  },
  {
   "cell_type": "code",
   "execution_count": 9,
   "id": "83e77574",
   "metadata": {},
   "outputs": [],
   "source": [
    "sentimento_ciro = []\n",
    "for x in textPT:\n",
    "    textEN = translator.translate(x)\n",
    "    sentimento = TextBlob(textEN.text)\n",
    "    sentimento_ciro.append(sentimento.polarity)"
   ]
  },
  {
   "cell_type": "code",
   "execution_count": 10,
   "id": "9bd28bbb",
   "metadata": {},
   "outputs": [],
   "source": [
    "df_ciro['Datetime'] = df_ciro['Datetime'].apply(lambda a: pd.to_datetime(a).date())\n",
    "df_sentimentoc = pd.DataFrame.from_dict(data={'Data':df_ciro['Datetime'],'Ciro Sentimento':sentimento_ciro}, orient='columns')\n",
    "CiroPos = df_sentimentoc.loc[df_sentimentoc['Ciro Sentimento'] > 0]\n",
    "CiroNeg = df_sentimentoc.loc[df_sentimentoc['Ciro Sentimento'] < 0]"
   ]
  },
  {
   "cell_type": "code",
   "execution_count": 11,
   "id": "df8a9e6e",
   "metadata": {},
   "outputs": [],
   "source": [
    "data_inicial = \"2022-1-1\"\n",
    "data_final = \"2022-1-2\"\n",
    "lista_twittes_tebet = []\n",
    "\n",
    "for x in range(360):\n",
    "    for i,tweet in enumerate(dados.TwitterSearchScraper(f'{\"Simone Tebet\"} + since:{data_inicial} until:{data_final}').get_items()):\n",
    "        lista_twittes_tebet.append([tweet.date, tweet.content])\n",
    "        if i>5:\n",
    "            break;\n",
    "    nova_data = pd.to_datetime(data_inicial).date() + pd.DateOffset(days=1)\n",
    "    data_inicial = str(pd.to_datetime(nova_data).date())\n",
    "    nova_data2 = pd.to_datetime(data_final).date() + pd.DateOffset(days=1)\n",
    "    data_final = str(pd.to_datetime(nova_data2).date())\n",
    "        \n",
    "df_tebet = pd.DataFrame(lista_twittes_tebet, columns=['Datetime', 'Text'])\n",
    "textPT = df_tebet['Text'].apply(unidecode)"
   ]
  },
  {
   "cell_type": "code",
   "execution_count": 13,
   "id": "c6c2f1d5",
   "metadata": {},
   "outputs": [],
   "source": [
    "sentimento_tebet = []\n",
    "for x in textPT:\n",
    "    textEN = translator.translate(x)\n",
    "    sentimento = TextBlob(textEN.text)\n",
    "    sentimento_tebet.append(sentimento.polarity)"
   ]
  },
  {
   "cell_type": "code",
   "execution_count": 14,
   "id": "e8585405",
   "metadata": {},
   "outputs": [],
   "source": [
    "df_tebet['Datetime'] = df_tebet['Datetime'].apply(lambda a: pd.to_datetime(a).date())\n",
    "df_sentimentot = pd.DataFrame.from_dict(data={'Data':df_tebet['Datetime'],'Tebet Sentimento':sentimento_tebet}, orient='columns')\n",
    "TebetPos = df_sentimentot.loc[df_sentimentot['Tebet Sentimento'] > 0]\n",
    "TebetNeg = df_sentimentot.loc[df_sentimentot['Tebet Sentimento'] < 0]"
   ]
  },
  {
   "cell_type": "code",
   "execution_count": 15,
   "id": "236be928",
   "metadata": {},
   "outputs": [],
   "source": [
    "TudoPos = pd.concat([BolsoPos, LulaPos, CiroPos, TebetPos])\n",
    "TudoNeg = pd.concat([BolsoNeg, LulaNeg, CiroNeg, TebetNeg])\n",
    "TudoPos.to_excel('sentimentosPositivos.xlsx', index=False)\n",
    "TudoNeg.to_excel('sentimentosNegativos.xlsx', index=False)"
   ]
  },
  {
   "cell_type": "code",
   "execution_count": 4,
   "id": "577786ce",
   "metadata": {},
   "outputs": [
    {
     "name": "stderr",
     "output_type": "stream",
     "text": [
      "Downloading: 100%|█████████████████████████████████████████████████████████| 158418/158418 [00:50<00:00, 3120.53rows/s]\n"
     ]
    }
   ],
   "source": [
    "df = bd.read_table(dataset_id='br_poder360_pesquisas', table_id='microdados', billing_project_id=\"projeto-presidente\")"
   ]
  },
  {
   "cell_type": "code",
   "execution_count": 1,
   "id": "786da4c1",
   "metadata": {},
   "outputs": [
    {
     "ename": "NameError",
     "evalue": "name 'df' is not defined",
     "output_type": "error",
     "traceback": [
      "\u001b[1;31m---------------------------------------------------------------------------\u001b[0m",
      "\u001b[1;31mNameError\u001b[0m                                 Traceback (most recent call last)",
      "\u001b[1;32m<ipython-input-1-75a9d3918f7c>\u001b[0m in \u001b[0;36m<module>\u001b[1;34m\u001b[0m\n\u001b[1;32m----> 1\u001b[1;33m \u001b[0mpesquisas\u001b[0m \u001b[1;33m=\u001b[0m \u001b[0mdf\u001b[0m\u001b[1;33m[\u001b[0m\u001b[1;33m(\u001b[0m\u001b[0mdf\u001b[0m\u001b[1;33m.\u001b[0m\u001b[0minstituto\u001b[0m \u001b[1;33m==\u001b[0m \u001b[1;34m'FSB'\u001b[0m\u001b[1;33m)\u001b[0m \u001b[1;33m&\u001b[0m \u001b[1;33m(\u001b[0m\u001b[0mdf\u001b[0m\u001b[1;33m.\u001b[0m\u001b[0mano\u001b[0m \u001b[1;33m==\u001b[0m \u001b[1;36m2022\u001b[0m\u001b[1;33m)\u001b[0m \u001b[1;33m&\u001b[0m \u001b[1;33m(\u001b[0m\u001b[0mdf\u001b[0m\u001b[1;33m.\u001b[0m\u001b[0mcargo\u001b[0m \u001b[1;33m==\u001b[0m \u001b[1;34m'presidente'\u001b[0m\u001b[1;33m)\u001b[0m \u001b[1;33m&\u001b[0m \u001b[1;33m(\u001b[0m\u001b[0mdf\u001b[0m\u001b[1;33m.\u001b[0m\u001b[0msigla_uf\u001b[0m\u001b[1;33m.\u001b[0m\u001b[0misnull\u001b[0m\u001b[1;33m(\u001b[0m\u001b[1;33m)\u001b[0m\u001b[1;33m)\u001b[0m \u001b[1;33m&\u001b[0m \u001b[1;33m(\u001b[0m\u001b[0mdf\u001b[0m\u001b[1;33m.\u001b[0m\u001b[0mtipo\u001b[0m \u001b[1;33m==\u001b[0m \u001b[1;34m'estimulada'\u001b[0m\u001b[1;33m)\u001b[0m \u001b[1;33m&\u001b[0m \u001b[1;33m(\u001b[0m\u001b[0mdf\u001b[0m\u001b[1;33m.\u001b[0m\u001b[0mturno\u001b[0m \u001b[1;33m==\u001b[0m \u001b[1;36m1\u001b[0m\u001b[1;33m)\u001b[0m \u001b[1;33m&\u001b[0m \u001b[1;33m(\u001b[0m\u001b[0mdf\u001b[0m\u001b[1;33m.\u001b[0m\u001b[0mdescricao_cenario\u001b[0m\u001b[1;33m.\u001b[0m\u001b[0mstr\u001b[0m\u001b[1;33m.\u001b[0m\u001b[0mcontains\u001b[0m\u001b[1;33m(\u001b[0m\u001b[1;34m'cenário 1'\u001b[0m\u001b[1;33m)\u001b[0m\u001b[1;33m==\u001b[0m\u001b[1;32mTrue\u001b[0m\u001b[1;33m)\u001b[0m \u001b[1;33m&\u001b[0m \u001b[1;33m(\u001b[0m\u001b[1;33m(\u001b[0m\u001b[0mdf\u001b[0m\u001b[1;33m.\u001b[0m\u001b[0mnome_candidato\u001b[0m \u001b[1;33m==\u001b[0m \u001b[1;34m'Lula'\u001b[0m\u001b[1;33m)\u001b[0m \u001b[1;33m|\u001b[0m \u001b[1;33m(\u001b[0m\u001b[0mdf\u001b[0m\u001b[1;33m.\u001b[0m\u001b[0mnome_candidato\u001b[0m \u001b[1;33m==\u001b[0m \u001b[1;34m'Bolsonaro'\u001b[0m\u001b[1;33m)\u001b[0m \u001b[1;33m|\u001b[0m \u001b[1;33m(\u001b[0m\u001b[0mdf\u001b[0m\u001b[1;33m.\u001b[0m\u001b[0mnome_candidato\u001b[0m \u001b[1;33m==\u001b[0m \u001b[1;34m'Ciro'\u001b[0m\u001b[1;33m)\u001b[0m \u001b[1;33m|\u001b[0m \u001b[1;33m(\u001b[0m\u001b[0mdf\u001b[0m\u001b[1;33m.\u001b[0m\u001b[0mnome_candidato\u001b[0m \u001b[1;33m==\u001b[0m \u001b[1;34m'Simone Tebet'\u001b[0m\u001b[1;33m)\u001b[0m\u001b[1;33m)\u001b[0m\u001b[1;33m]\u001b[0m\u001b[1;33m.\u001b[0m\u001b[0msort_values\u001b[0m\u001b[1;33m(\u001b[0m\u001b[0mby\u001b[0m\u001b[1;33m=\u001b[0m\u001b[1;34m'data'\u001b[0m\u001b[1;33m)\u001b[0m\u001b[1;33m\u001b[0m\u001b[1;33m\u001b[0m\u001b[0m\n\u001b[0m\u001b[0;32m      2\u001b[0m \u001b[1;31m#pesquisas.to_excel('Pesquisa_completa_FSB.xlsx', index=False)\u001b[0m\u001b[1;33m\u001b[0m\u001b[1;33m\u001b[0m\u001b[0m\n",
      "\u001b[1;31mNameError\u001b[0m: name 'df' is not defined"
     ]
    }
   ],
   "source": [
    "pesquisas = df[(df.instituto == 'FSB') & (df.ano == 2022) & (df.cargo == 'presidente') & (df.sigla_uf.isnull()) & (df.tipo == 'estimulada') & (df.turno == 1) & (df.descricao_cenario.str.contains('cenário 1')==True) & ((df.nome_candidato == 'Lula') | (df.nome_candidato == 'Bolsonaro') | (df.nome_candidato == 'Ciro') | (df.nome_candidato == 'Simone Tebet'))].sort_values(by='data')\n",
    "pesquisas.to_excel('Pesquisa_completa_FSB.xlsx', index=False)"
   ]
  }
 ],
 "metadata": {
  "kernelspec": {
   "display_name": "Python 3",
   "language": "python",
   "name": "python3"
  },
  "language_info": {
   "codemirror_mode": {
    "name": "ipython",
    "version": 3
   },
   "file_extension": ".py",
   "mimetype": "text/x-python",
   "name": "python",
   "nbconvert_exporter": "python",
   "pygments_lexer": "ipython3",
   "version": "3.9.13"
  }
 },
 "nbformat": 4,
 "nbformat_minor": 5
}
